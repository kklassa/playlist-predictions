{
 "cells": [
  {
   "cell_type": "code",
   "execution_count": 3,
   "metadata": {},
   "outputs": [],
   "source": [
    "import torch\n",
    "import pandas as pd\n",
    "import numpy as np\n",
    "import xgboost as xgb\n",
    "from sklearn.preprocessing import StandardScaler, LabelEncoder\n",
    "import pickle\n",
    "from torch import nn\n",
    "from pathlib import Path"
   ]
  },
  {
   "attachments": {},
   "cell_type": "markdown",
   "metadata": {},
   "source": [
    "#### Load Preprocessing"
   ]
  },
  {
   "cell_type": "code",
   "execution_count": 2,
   "metadata": {},
   "outputs": [],
   "source": [
    "with open('../artifacts/preprocessing/le_track.pkl', 'rb') as f:\n",
    "    le_track = pickle.load(f)\n",
    "with open('../artifacts/preprocessing/le_artist.pkl', 'rb') as f:\n",
    "    le_artist = pickle.load(f)\n",
    "with open('../artifacts/preprocessing/scaler.pkl', 'rb') as f:\n",
    "    scaler = pickle.load(f)\n"
   ]
  },
  {
   "attachments": {},
   "cell_type": "markdown",
   "metadata": {},
   "source": [
    "#### Load NN Model"
   ]
  },
  {
   "cell_type": "code",
   "execution_count": 19,
   "metadata": {},
   "outputs": [],
   "source": [
    "class NNPredictor(nn.Module):\n",
    "    def __init__(self, num_features, num_hidden) -> None:\n",
    "        super(NNPredictor, self).__init__()\n",
    "        self.input_layer = nn.Linear(num_features, num_hidden)\n",
    "        self.hidden_layer_1 = nn.Linear(num_hidden, num_hidden)\n",
    "        self.hidden_layer_2 = nn.Linear(num_hidden, num_hidden)\n",
    "        self.output_layer = nn.Linear(num_hidden, 1)\n",
    "\n",
    "        self.activation = nn.ReLU()\n",
    "\n",
    "    def forward(self, x):\n",
    "        x = self.activation(self.input_layer(x))\n",
    "        x = self.activation(self.hidden_layer_1(x))\n",
    "        x = self.activation(self.hidden_layer_2(x))\n",
    "        return self.output_layer(x)"
   ]
  },
  {
   "cell_type": "code",
   "execution_count": 20,
   "metadata": {},
   "outputs": [],
   "source": [
    "nn_model = NNPredictor(18, 128).float()"
   ]
  },
  {
   "cell_type": "code",
   "execution_count": 21,
   "metadata": {},
   "outputs": [
    {
     "data": {
      "text/plain": [
       "NNPredictor(\n",
       "  (input_layer): Linear(in_features=18, out_features=128, bias=True)\n",
       "  (hidden_layer_1): Linear(in_features=128, out_features=128, bias=True)\n",
       "  (hidden_layer_2): Linear(in_features=128, out_features=128, bias=True)\n",
       "  (output_layer): Linear(in_features=128, out_features=1, bias=True)\n",
       "  (activation): ReLU()\n",
       ")"
      ]
     },
     "execution_count": 21,
     "metadata": {},
     "output_type": "execute_result"
    }
   ],
   "source": [
    "nn_model.load_state_dict(torch.load('../artifacts/models/nn_regressor.pth'))\n",
    "nn_model.eval()"
   ]
  },
  {
   "attachments": {},
   "cell_type": "markdown",
   "metadata": {},
   "source": [
    "#### Load XGBoost Model"
   ]
  },
  {
   "cell_type": "code",
   "execution_count": 6,
   "metadata": {},
   "outputs": [],
   "source": [
    "xgb_model_filename = Path('../artifacts/models/xgb_regressor.model')\n",
    "xgb_model = xgb.XGBRegressor()\n",
    "xgb_model.load_model(xgb_model_filename)"
   ]
  },
  {
   "attachments": {},
   "cell_type": "markdown",
   "metadata": {},
   "source": [
    "#### Prepare data"
   ]
  },
  {
   "attachments": {},
   "cell_type": "markdown",
   "metadata": {},
   "source": [
    "##### Sample week data"
   ]
  },
  {
   "cell_type": "code",
   "execution_count": 8,
   "metadata": {},
   "outputs": [],
   "source": [
    "data = pd.read_csv('../data/prepared_data_v3.csv')\n",
    "no_weeks = data['week_number'].max()\n",
    "for week in range(no_weeks):\n",
    "    data.loc[data['week_number'] == week, 'next_week_plays'] = data.loc[data['week_number'] == week+1, 'track_plays'].values\n",
    "\n",
    "data['next_week_plays'] = data['next_week_plays'].fillna(0).astype(int)\n",
    "data = data.drop(data[data['week_number'] == no_weeks].index)"
   ]
  },
  {
   "cell_type": "code",
   "execution_count": 9,
   "metadata": {},
   "outputs": [],
   "source": [
    "sample_data = data[data['week_number'] == 50].copy()"
   ]
  },
  {
   "cell_type": "code",
   "execution_count": 16,
   "metadata": {},
   "outputs": [],
   "source": [
    "reference_data = data[data['week_number'] == 50].copy()"
   ]
  },
  {
   "cell_type": "code",
   "execution_count": 10,
   "metadata": {},
   "outputs": [],
   "source": [
    "sample_data.drop(columns=['week_number'], inplace=True)"
   ]
  },
  {
   "cell_type": "code",
   "execution_count": 11,
   "metadata": {},
   "outputs": [],
   "source": [
    "sample_data.drop(columns=['name_track', 'name_artist', 'release_date', 'genres'], inplace=True)"
   ]
  },
  {
   "cell_type": "code",
   "execution_count": 12,
   "metadata": {},
   "outputs": [
    {
     "data": {
      "text/html": [
       "<div>\n",
       "<style scoped>\n",
       "    .dataframe tbody tr th:only-of-type {\n",
       "        vertical-align: middle;\n",
       "    }\n",
       "\n",
       "    .dataframe tbody tr th {\n",
       "        vertical-align: top;\n",
       "    }\n",
       "\n",
       "    .dataframe thead th {\n",
       "        text-align: right;\n",
       "    }\n",
       "</style>\n",
       "<table border=\"1\" class=\"dataframe\">\n",
       "  <thead>\n",
       "    <tr style=\"text-align: right;\">\n",
       "      <th></th>\n",
       "      <th>id_track</th>\n",
       "      <th>popularity</th>\n",
       "      <th>duration_ms</th>\n",
       "      <th>explicit</th>\n",
       "      <th>id_artist</th>\n",
       "      <th>danceability</th>\n",
       "      <th>energy</th>\n",
       "      <th>key</th>\n",
       "      <th>loudness</th>\n",
       "      <th>speechiness</th>\n",
       "      <th>acousticness</th>\n",
       "      <th>instrumentalness</th>\n",
       "      <th>liveness</th>\n",
       "      <th>valence</th>\n",
       "      <th>tempo</th>\n",
       "      <th>artist_popularity</th>\n",
       "      <th>track_plays</th>\n",
       "      <th>artist_plays</th>\n",
       "      <th>next_week_plays</th>\n",
       "    </tr>\n",
       "  </thead>\n",
       "  <tbody>\n",
       "    <tr>\n",
       "      <th>1120600</th>\n",
       "      <td>0RNxWy0PC3AyH4ThH3aGK6</td>\n",
       "      <td>55</td>\n",
       "      <td>201467</td>\n",
       "      <td>0</td>\n",
       "      <td>19eLuQmk9aCobbVDHc6eek</td>\n",
       "      <td>0.673</td>\n",
       "      <td>0.377</td>\n",
       "      <td>0</td>\n",
       "      <td>-14.141</td>\n",
       "      <td>0.0697</td>\n",
       "      <td>0.586</td>\n",
       "      <td>0.0000</td>\n",
       "      <td>0.332</td>\n",
       "      <td>0.713</td>\n",
       "      <td>88.973</td>\n",
       "      <td>61.090909</td>\n",
       "      <td>0</td>\n",
       "      <td>0</td>\n",
       "      <td>0</td>\n",
       "    </tr>\n",
       "    <tr>\n",
       "      <th>1120601</th>\n",
       "      <td>17gxfuiFUrLhbUKdunxUPJ</td>\n",
       "      <td>58</td>\n",
       "      <td>179867</td>\n",
       "      <td>0</td>\n",
       "      <td>19eLuQmk9aCobbVDHc6eek</td>\n",
       "      <td>0.448</td>\n",
       "      <td>0.120</td>\n",
       "      <td>0</td>\n",
       "      <td>-14.089</td>\n",
       "      <td>0.0355</td>\n",
       "      <td>0.877</td>\n",
       "      <td>0.0135</td>\n",
       "      <td>0.100</td>\n",
       "      <td>0.261</td>\n",
       "      <td>86.407</td>\n",
       "      <td>61.090909</td>\n",
       "      <td>0</td>\n",
       "      <td>0</td>\n",
       "      <td>0</td>\n",
       "    </tr>\n",
       "  </tbody>\n",
       "</table>\n",
       "</div>"
      ],
      "text/plain": [
       "                       id_track  popularity  duration_ms  explicit  \\\n",
       "1120600  0RNxWy0PC3AyH4ThH3aGK6          55       201467         0   \n",
       "1120601  17gxfuiFUrLhbUKdunxUPJ          58       179867         0   \n",
       "\n",
       "                      id_artist  danceability  energy  key  loudness  \\\n",
       "1120600  19eLuQmk9aCobbVDHc6eek         0.673   0.377    0   -14.141   \n",
       "1120601  19eLuQmk9aCobbVDHc6eek         0.448   0.120    0   -14.089   \n",
       "\n",
       "         speechiness  acousticness  instrumentalness  liveness  valence  \\\n",
       "1120600       0.0697         0.586            0.0000     0.332    0.713   \n",
       "1120601       0.0355         0.877            0.0135     0.100    0.261   \n",
       "\n",
       "          tempo  artist_popularity  track_plays  artist_plays  next_week_plays  \n",
       "1120600  88.973          61.090909            0             0                0  \n",
       "1120601  86.407          61.090909            0             0                0  "
      ]
     },
     "execution_count": 12,
     "metadata": {},
     "output_type": "execute_result"
    }
   ],
   "source": [
    "sample_data.head(2)"
   ]
  },
  {
   "cell_type": "code",
   "execution_count": 13,
   "metadata": {},
   "outputs": [],
   "source": [
    "sample_data['id_track'] = le_track.fit_transform(sample_data['id_track'])\n",
    "sample_data['id_artist'] = le_artist.fit_transform(sample_data['id_artist'])"
   ]
  },
  {
   "cell_type": "code",
   "execution_count": 14,
   "metadata": {},
   "outputs": [],
   "source": [
    "features_to_normalize = ['popularity', 'duration_ms', 'danceability', 'energy', 'key', 'loudness', 'speechiness', \n",
    "                         'acousticness', 'instrumentalness', 'liveness', 'valence', 'tempo', 'artist_popularity', \n",
    "                         'track_plays', 'artist_plays']\n",
    "\n",
    "sample_data[features_to_normalize] = scaler.fit_transform(sample_data[features_to_normalize])"
   ]
  },
  {
   "cell_type": "code",
   "execution_count": 35,
   "metadata": {},
   "outputs": [],
   "source": [
    "real_plays = sample_data['next_week_plays'].values\n",
    "input_data = sample_data.drop('next_week_plays', axis=1).values"
   ]
  },
  {
   "attachments": {},
   "cell_type": "markdown",
   "metadata": {},
   "source": [
    "##### Sample datapoint"
   ]
  },
  {
   "cell_type": "code",
   "execution_count": 27,
   "metadata": {},
   "outputs": [],
   "source": [
    "def preprocess_data(data: pd.DataFrame) -> pd.DataFrame:\n",
    "    processed_data = data.copy()\n",
    "    processed_data['id_track'] = le_track.transform(data['id_track'])\n",
    "    processed_data['id_artist'] = le_artist.transform(data['id_artist'])\n",
    "    processed_data[features_to_normalize] = scaler.transform(data[features_to_normalize])\n",
    "    return processed_data"
   ]
  },
  {
   "cell_type": "code",
   "execution_count": 28,
   "metadata": {},
   "outputs": [],
   "source": [
    "labels = ['id_track', 'popularity', 'duration_ms', 'explicit', 'id_artist', 'danceability', 'energy', 'key', 'loudness', 'speechiness', 'acousticness', 'instrumentalness', 'liveness', 'valence', 'tempo', 'artist_popularity', 'track_plays', 'artist_plays']"
   ]
  },
  {
   "cell_type": "code",
   "execution_count": 29,
   "metadata": {},
   "outputs": [],
   "source": [
    "datapoint = ['7lPN2DXiMsVn7XUKtOW1CS', 99, 242014, 1, '1McMsnEElThX1knmY4oliG', 0.585, 0.436, 10, -8.761, 0.0601, 0.721, 0.000013, 0.105, 0.132, 143.874, 82.2, 17, 54]"
   ]
  },
  {
   "cell_type": "code",
   "execution_count": 30,
   "metadata": {},
   "outputs": [],
   "source": [
    "datapoint_df = pd.DataFrame([datapoint], columns=labels)"
   ]
  },
  {
   "cell_type": "code",
   "execution_count": 31,
   "metadata": {},
   "outputs": [
    {
     "data": {
      "text/html": [
       "<div>\n",
       "<style scoped>\n",
       "    .dataframe tbody tr th:only-of-type {\n",
       "        vertical-align: middle;\n",
       "    }\n",
       "\n",
       "    .dataframe tbody tr th {\n",
       "        vertical-align: top;\n",
       "    }\n",
       "\n",
       "    .dataframe thead th {\n",
       "        text-align: right;\n",
       "    }\n",
       "</style>\n",
       "<table border=\"1\" class=\"dataframe\">\n",
       "  <thead>\n",
       "    <tr style=\"text-align: right;\">\n",
       "      <th></th>\n",
       "      <th>id_track</th>\n",
       "      <th>popularity</th>\n",
       "      <th>duration_ms</th>\n",
       "      <th>explicit</th>\n",
       "      <th>id_artist</th>\n",
       "      <th>danceability</th>\n",
       "      <th>energy</th>\n",
       "      <th>key</th>\n",
       "      <th>loudness</th>\n",
       "      <th>speechiness</th>\n",
       "      <th>acousticness</th>\n",
       "      <th>instrumentalness</th>\n",
       "      <th>liveness</th>\n",
       "      <th>valence</th>\n",
       "      <th>tempo</th>\n",
       "      <th>artist_popularity</th>\n",
       "      <th>track_plays</th>\n",
       "      <th>artist_plays</th>\n",
       "    </tr>\n",
       "  </thead>\n",
       "  <tbody>\n",
       "    <tr>\n",
       "      <th>0</th>\n",
       "      <td>7lPN2DXiMsVn7XUKtOW1CS</td>\n",
       "      <td>99</td>\n",
       "      <td>242014</td>\n",
       "      <td>1</td>\n",
       "      <td>1McMsnEElThX1knmY4oliG</td>\n",
       "      <td>0.585</td>\n",
       "      <td>0.436</td>\n",
       "      <td>10</td>\n",
       "      <td>-8.761</td>\n",
       "      <td>0.0601</td>\n",
       "      <td>0.721</td>\n",
       "      <td>0.000013</td>\n",
       "      <td>0.105</td>\n",
       "      <td>0.132</td>\n",
       "      <td>143.874</td>\n",
       "      <td>82.2</td>\n",
       "      <td>17</td>\n",
       "      <td>54</td>\n",
       "    </tr>\n",
       "  </tbody>\n",
       "</table>\n",
       "</div>"
      ],
      "text/plain": [
       "                 id_track  popularity  duration_ms  explicit  \\\n",
       "0  7lPN2DXiMsVn7XUKtOW1CS          99       242014         1   \n",
       "\n",
       "                id_artist  danceability  energy  key  loudness  speechiness  \\\n",
       "0  1McMsnEElThX1knmY4oliG         0.585   0.436   10    -8.761       0.0601   \n",
       "\n",
       "   acousticness  instrumentalness  liveness  valence    tempo  \\\n",
       "0         0.721          0.000013     0.105    0.132  143.874   \n",
       "\n",
       "   artist_popularity  track_plays  artist_plays  \n",
       "0               82.2           17            54  "
      ]
     },
     "execution_count": 31,
     "metadata": {},
     "output_type": "execute_result"
    }
   ],
   "source": [
    "datapoint_df.head()"
   ]
  },
  {
   "attachments": {},
   "cell_type": "markdown",
   "metadata": {},
   "source": [
    "#### Inference"
   ]
  },
  {
   "attachments": {},
   "cell_type": "markdown",
   "metadata": {},
   "source": [
    "##### Torch Predictions"
   ]
  },
  {
   "cell_type": "code",
   "execution_count": 17,
   "metadata": {},
   "outputs": [],
   "source": [
    "torch_input_data = torch.from_numpy(input_data).float()"
   ]
  },
  {
   "cell_type": "code",
   "execution_count": 22,
   "metadata": {},
   "outputs": [],
   "source": [
    "predictions = nn_model.forward(torch_input_data).detach().numpy().flatten()"
   ]
  },
  {
   "cell_type": "code",
   "execution_count": 23,
   "metadata": {},
   "outputs": [],
   "source": [
    "predicted_plays = np.ceil(predictions).astype(int)"
   ]
  },
  {
   "cell_type": "code",
   "execution_count": 24,
   "metadata": {},
   "outputs": [
    {
     "name": "stdout",
     "output_type": "stream",
     "text": [
      "[40 39 37 36 36 35 35 35 34 34 34 34 34 33 33 33 33 33 32 32 32 32 32 32\n",
      " 32 32 32 32 31 31 31 31 30 30 29 29 29 29 29 28 28 28 28 28 28 28 28 28\n",
      " 28 28]\n",
      "[17963 18532 18510 17972 18039 16894 19870 18964 13396 14463 18995 11306\n",
      " 15386 10907 14455 18994  8328 18237 14541 15911 16775 18509 17235 13685\n",
      " 15021 19545 18523 18130 18660 14631 19561 17342 10744 14611 19166 14633\n",
      " 16276 19141 19153 15917 19057 13860 12955 19751 18002 19558 15916 19152\n",
      " 15020 18659]\n"
     ]
    }
   ],
   "source": [
    "indices = np.argsort(predicted_plays)[-50:]\n",
    "\n",
    "# Sort the array in descending order\n",
    "sorted_array = np.sort(predicted_plays)[-50:][::-1]\n",
    "\n",
    "# Print the sorted array and corresponding indices\n",
    "print(sorted_array)\n",
    "print(indices)"
   ]
  },
  {
   "cell_type": "code",
   "execution_count": 25,
   "metadata": {},
   "outputs": [],
   "source": [
    "predicted_tracks = reference_data.iloc[indices]['name_track'].values\n",
    "predicted_tracks"
   ]
  },
  {
   "cell_type": "code",
   "execution_count": 32,
   "metadata": {},
   "outputs": [],
   "source": [
    "input_datapoint = preprocess_data(datapoint_df)"
   ]
  },
  {
   "cell_type": "code",
   "execution_count": 33,
   "metadata": {},
   "outputs": [],
   "source": [
    "single_prediction = nn_model.forward(torch.from_numpy(input_datapoint.values).float()).detach().numpy().flatten()"
   ]
  },
  {
   "cell_type": "code",
   "execution_count": 34,
   "metadata": {},
   "outputs": [
    {
     "data": {
      "text/plain": [
       "array([27.202284], dtype=float32)"
      ]
     },
     "execution_count": 34,
     "metadata": {},
     "output_type": "execute_result"
    }
   ],
   "source": [
    "single_prediction"
   ]
  },
  {
   "attachments": {},
   "cell_type": "markdown",
   "metadata": {},
   "source": [
    "##### XGBoost Predictions"
   ]
  },
  {
   "cell_type": "code",
   "execution_count": 38,
   "metadata": {},
   "outputs": [],
   "source": [
    "predictions = xgb_model.predict(input_data)"
   ]
  },
  {
   "cell_type": "code",
   "execution_count": 39,
   "metadata": {},
   "outputs": [],
   "source": [
    "predicted_plays = np.ceil(predictions).astype(int)"
   ]
  },
  {
   "cell_type": "code",
   "execution_count": 40,
   "metadata": {},
   "outputs": [
    {
     "name": "stdout",
     "output_type": "stream",
     "text": [
      "[29 28 28 28 27 27 27 27 27 27 27 27 27 27 27 27 27 27 27 27 27 27 27 27\n",
      " 27 27 27 27 27 26 26 26 26 26 26 26 26 26 26 26 26 26 26 26 26 26 26 26\n",
      " 26 26]\n",
      "[13815 15917 18994 15911 15398 12776 15021 15020 18682 11944 13859 16584\n",
      " 18964 13700 16596 19855 17973 13869 16330 19870 17222  8328 14633 14632\n",
      " 14631 14611 18660 16473 15386 18659 18726 18237 18509 11305 19562 17223\n",
      " 17235 19858 18523 11306 13154 10907 16441 18002 18001 10744 12955 17224\n",
      " 11173 19751]\n"
     ]
    }
   ],
   "source": [
    "indices = np.argsort(predicted_plays)[-50:]\n",
    "\n",
    "# Sort the array in descending order\n",
    "sorted_array = np.sort(predicted_plays)[-50:][::-1]\n",
    "\n",
    "# Print the sorted array and corresponding indices\n",
    "print(sorted_array)\n",
    "print(indices)"
   ]
  },
  {
   "cell_type": "code",
   "execution_count": 42,
   "metadata": {},
   "outputs": [
    {
     "data": {
      "text/plain": [
       "array(['The Nights', '34+35', 'Heather', '7 rings', 'Film out',\n",
       "       'What’s Next', \"Say You Won't Let Go\", 'Train Wreck', 'Up',\n",
       "       'Hayloft', 'Perfect', 'SICKO MODE', 'My Head & My Heart',\n",
       "       'La Tóxica', 'HIGHEST IN THE ROOM', 'Astronaut In The Ocean',\n",
       "       'Hope', 'Afterglow', 'Streets', 'Tapão Na Raba', 'bad guy',\n",
       "       'Yellow', 'In Your Eyes', 'Blinding Lights', 'Save Your Tears',\n",
       "       'The Hills', 'Before You Go', 'hot girl bummer', 'Dynamite',\n",
       "       'Someone You Loved', 'ROXANNE', 'you broke me first',\n",
       "       'Lucid Dreams', 'Do I Wanna Know?', 'Coração Na Cama',\n",
       "       'everything i wanted', 'Therefore I Am',\n",
       "       'Batom de Cereja - Ao Vivo', 'Robbery',\n",
       "       \"Why'd You Only Call Me When You're High?\", 'Stressed Out',\n",
       "       \"Cupid's Chokehold / Breakfast in America\", 'Electric Love',\n",
       "       'Golden', 'Watermelon Sugar', 'Snowman', 'Hold On',\n",
       "       \"when the party's over\", 'All of Me', '911'], dtype=object)"
      ]
     },
     "execution_count": 42,
     "metadata": {},
     "output_type": "execute_result"
    }
   ],
   "source": [
    "predicted_tracks = reference_data.iloc[indices]['name_track'].values\n",
    "predicted_tracks"
   ]
  },
  {
   "cell_type": "code",
   "execution_count": null,
   "metadata": {},
   "outputs": [],
   "source": []
  }
 ],
 "metadata": {
  "kernelspec": {
   "display_name": "venv",
   "language": "python",
   "name": "python3"
  },
  "language_info": {
   "codemirror_mode": {
    "name": "ipython",
    "version": 3
   },
   "file_extension": ".py",
   "mimetype": "text/x-python",
   "name": "python",
   "nbconvert_exporter": "python",
   "pygments_lexer": "ipython3",
   "version": "3.11.0"
  },
  "orig_nbformat": 4
 },
 "nbformat": 4,
 "nbformat_minor": 2
}
